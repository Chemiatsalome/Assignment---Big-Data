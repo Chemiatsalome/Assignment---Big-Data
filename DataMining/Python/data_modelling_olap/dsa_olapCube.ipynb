{
 "cells": [
  {
   "cell_type": "markdown",
   "id": "440210bc-dec1-4a9d-96d8-4a821d3dc536",
   "metadata": {
    "slideshow": {
     "slide_type": "notes"
    },
    "tags": [
     "olap"
    ]
   },
   "source": [
    "# Agenda\n",
    "Analytical data modeling involves designing a data model that supports reporting and analytics. Analytics can be defined as the **the systematic computational analysis of data.** The chief aim of analytical data modeling is to interprete and communicate meaningful patterns extracted from a data set and apply them towards effective decision making. \n",
    "\n",
    "It is important for analyst to shift his point of view from **transactional operations on data (i.e. in OLTP)** to **analytical operations on data (i.e. in OLAP).** Analytics and Reporting are performed on data models (i.e. ORM, Cube), which are constructed on top of (mostly) transactional datasets. \n",
    "\n",
    "In this exercise, we demonstrate how to prepare data for both ORM and Cube modeling. We describe a few OLAP operations that can be implemented on a Cube model. The content for the remainder of this guide is as follows.\n",
    "\n",
    "## Table of Contents\n",
    "1. [Python Libraries](#libraries)  \n",
    "    1.1 [Installing Python Libraries](#lib-install)  \n",
    "    1.2 [Importing Python Libraries](#lib-import)  \n",
    "2. [Preparing Data](#data-set)  \n",
    "    2.1 [Loading Data into Database](#loading)  \n",
    "    2.2 [ORM Modeling](#orm)  \n",
    "3. [OLAP Cube Operations](#olap)  \n",
    "    3.1 [Cube Modeling](#cube)  \n",
    "    3.2 [Creating Workspace](#workspace)  \n",
    "    3.3 [Data Aggregation](#aggregation)  \n",
    "    3.4 [Drill Down](#drill-down)  \n",
    "    3.5 [Slicing and Dicing](#slice-dice)  \n",
    "4. [Exercise: Multidimensional Modeling on a UCI Data set](#exercise)  \n",
    "\n",
    "\n",
    "\n",
    "# 1. Python Libraries <a name=\"libraries\"></a>\n",
    "## 1.1 Install Python libraries <a name=\"lib-install\"></a>\n",
    "This exercise will requires the following **Python** libraries:\n",
    "\n",
    "<ul>\n",
    "    <li><strong>cubes:</strong> a light-weight Python framework for OLAP</li>\n",
    "    <li><strong>SQLAlchemy:</strong> a Python SQL Toolkit and Object Relational Mapper for ORM</li>\n",
    "</ul>"
   ]
  },
  {
   "cell_type": "code",
   "execution_count": 1,
   "id": "64d09d4c-489c-4bc0-a277-20487b4030d1",
   "metadata": {
    "slideshow": {
     "slide_type": "slide"
    },
    "tags": []
   },
   "outputs": [
    {
     "name": "stdout",
     "output_type": "stream",
     "text": [
      "\u001b[33mDEPRECATION: Configuring installation scheme with distutils config files is deprecated and will no longer work in the near future. If you are using a Homebrew or Linuxbrew Python, please see discussion at https://github.com/Homebrew/homebrew-core/issues/76621\u001b[0m\u001b[33m\n",
      "\u001b[0mCollecting cubes\n",
      "  Using cached cubes-1.1-py3-none-any.whl\n",
      "Requirement already satisfied: jsonschema in /usr/local/lib/python3.9/site-packages (from cubes) (4.15.0)\n",
      "Requirement already satisfied: python-dateutil in /usr/local/lib/python3.9/site-packages (from cubes) (2.8.2)\n",
      "Collecting expressions>=0.2.3\n",
      "  Using cached expressions-0.2.3-py3-none-any.whl\n",
      "Collecting grako>=3.9.3\n",
      "  Using cached grako-3.99.9-py2.py3-none-any.whl (82 kB)\n",
      "Requirement already satisfied: attrs>=17.4.0 in /usr/local/lib/python3.9/site-packages (from jsonschema->cubes) (22.1.0)\n",
      "Requirement already satisfied: pyrsistent!=0.17.0,!=0.17.1,!=0.17.2,>=0.14.0 in /usr/local/lib/python3.9/site-packages (from jsonschema->cubes) (0.18.1)\n",
      "Requirement already satisfied: six>=1.5 in /usr/local/lib/python3.9/site-packages (from python-dateutil->cubes) (1.16.0)\n",
      "Installing collected packages: grako, expressions, cubes\n",
      "\u001b[33m  DEPRECATION: Configuring installation scheme with distutils config files is deprecated and will no longer work in the near future. If you are using a Homebrew or Linuxbrew Python, please see discussion at https://github.com/Homebrew/homebrew-core/issues/76621\u001b[0m\u001b[33m\n",
      "\u001b[0m\u001b[33m  DEPRECATION: Configuring installation scheme with distutils config files is deprecated and will no longer work in the near future. If you are using a Homebrew or Linuxbrew Python, please see discussion at https://github.com/Homebrew/homebrew-core/issues/76621\u001b[0m\u001b[33m\n",
      "\u001b[0m\u001b[33m  DEPRECATION: Configuring installation scheme with distutils config files is deprecated and will no longer work in the near future. If you are using a Homebrew or Linuxbrew Python, please see discussion at https://github.com/Homebrew/homebrew-core/issues/76621\u001b[0m\u001b[33m\n",
      "\u001b[0m\u001b[33mDEPRECATION: Configuring installation scheme with distutils config files is deprecated and will no longer work in the near future. If you are using a Homebrew or Linuxbrew Python, please see discussion at https://github.com/Homebrew/homebrew-core/issues/76621\u001b[0m\u001b[33m\n",
      "\u001b[0mSuccessfully installed cubes-1.1 expressions-0.2.3 grako-3.99.9\n",
      "\u001b[33mDEPRECATION: Configuring installation scheme with distutils config files is deprecated and will no longer work in the near future. If you are using a Homebrew or Linuxbrew Python, please see discussion at https://github.com/Homebrew/homebrew-core/issues/76621\u001b[0m\u001b[33m\n",
      "\u001b[0mCollecting sqlalchemy==0.7.4\n",
      "  Using cached SQLAlchemy-0.7.4-py3-none-any.whl\n",
      "Installing collected packages: sqlalchemy\n",
      "\u001b[33m  DEPRECATION: Configuring installation scheme with distutils config files is deprecated and will no longer work in the near future. If you are using a Homebrew or Linuxbrew Python, please see discussion at https://github.com/Homebrew/homebrew-core/issues/76621\u001b[0m\u001b[33m\n",
      "\u001b[0m\u001b[33mDEPRECATION: Configuring installation scheme with distutils config files is deprecated and will no longer work in the near future. If you are using a Homebrew or Linuxbrew Python, please see discussion at https://github.com/Homebrew/homebrew-core/issues/76621\u001b[0m\u001b[33m\n",
      "\u001b[0mSuccessfully installed sqlalchemy-0.7.4\n"
     ]
    }
   ],
   "source": [
    "# Installing Libraries (if not installed)\n",
    "!pip3 install cubes\n",
    "!pip3 install sqlalchemy==1.4.41"
   ]
  },
  {
   "cell_type": "markdown",
   "id": "088331cf-d124-47d8-a110-06680cbef39a",
   "metadata": {},
   "source": [
    "## 1.2 Import libraries <a name=\"lib-import\"></a>"
   ]
  },
  {
   "cell_type": "code",
   "execution_count": 1,
   "id": "6b2ce5a2-1330-40e2-adc8-13d58994f204",
   "metadata": {},
   "outputs": [],
   "source": [
    "# Importing Libraries\n",
    "\n",
    "import sqlalchemy\n",
    "from sqlalchemy import create_engine\n",
    "from sqlalchemy.orm import sessionmaker, scoped_session\n",
    "\n",
    "from cubes.tutorial.sql import create_table_from_csv\n",
    "from cubes.compat import ConfigParser\n",
    "from cubes import Workspace, Cell, PointCut\n"
   ]
  },
  {
   "cell_type": "markdown",
   "id": "40d31ea0-ad8a-4a2a-9e73-5a1dc5badc6d",
   "metadata": {
    "tags": []
   },
   "source": [
    "# 2. Preparing Data <a name=\"data-set\"></a>\n",
    "In this section, we demostrate how to prepare data for ORM and Cube modeling. First, we create a SQLite database and populate it with an example dataset (IBRD Balance Sheet) taken from [The World Bank](https://finances.worldbank.org/Accounting-and-Control/IBRD-Balance-Sheet-FY2010/e8yz-96c6). This data is saved in [data.csv](data.csv), which will be the **data source** for this exercise.\n",
    "\n",
    "Some parts of this exercise was adopted from:\n",
    "1. [Cubes - OLAP Framework](https://pythonhosted.org/cubes/index.html)\n",
    "2. [DataBrewery/cubes](https://github.com/DataBrewery/cubes/tree/master/examples/hello_world)\n",
    "\n",
    "## 2.1 Loading Data into Database <a name=\"loading\"></a>"
   ]
  },
  {
   "cell_type": "code",
   "execution_count": 2,
   "id": "4fc6c8b4-4ce4-419a-96ae-6e44e82a14ce",
   "metadata": {},
   "outputs": [],
   "source": [
    "# Prepare SQL data in memory\n",
    "\n",
    "FACT_TABLE = \"irbd_balance\"\n",
    "\n",
    "engine = create_engine('sqlite:///data.sqlite')\n",
    "create_table_from_csv(engine,\n",
    "                      \"data.csv\",\n",
    "                      table_name=FACT_TABLE,\n",
    "                      fields=[\n",
    "                            (\"category\", \"string\"),\n",
    "                            (\"category_label\", \"string\"),\n",
    "                            (\"subcategory\", \"string\"),\n",
    "                            (\"subcategory_label\", \"string\"),\n",
    "                            (\"line_item\", \"string\"),\n",
    "                            (\"year\", \"integer\"),\n",
    "                            (\"amount\", \"integer\")],\n",
    "                      create_id=True\n",
    "                  )"
   ]
  },
  {
   "cell_type": "markdown",
   "id": "7eb93385-b937-4333-9baa-ddc927d232c4",
   "metadata": {},
   "source": [
    "## 2.2 ORM Modeling <a name=\"orm\"></a>\n",
    "In this section, we demonstrate how to use the **SQLAlchemy ORM Python API** to construct and execute ORM queries (*i.e SELECT, INSERT, UPDATE, DELETE*).\n",
    "\n",
    "Some parts of this exercise was adopted from [SQLAlchemy Documentation](https://docs.sqlalchemy.org/en/14/orm/tutorial.html).\n"
   ]
  },
  {
   "cell_type": "code",
   "execution_count": 10,
   "id": "4918b174-9e3a-4e0d-9b78-d76516844e81",
   "metadata": {
    "tags": []
   },
   "outputs": [
    {
     "name": "stdout",
     "output_type": "stream",
     "text": [
      "Assets 2010 Unrestricted currencies\n",
      "Assets 2009 Unrestricted currencies\n",
      "Assets 2010 Currencies subject to restriction\n",
      "Assets 2009 Currencies subject to restriction\n",
      "Assets 2010 Trading\n",
      "Assets 2009 Trading\n",
      "Assets 2010 Securities purchased under resale agreements\n",
      "Assets 2009 Securities purchased under resale agreements\n",
      "Assets 2010 Nonnegotiable, nonintrest-bearing demand obligations on account of subscribed capital\n",
      "Assets 2009 Nonnegotiable, nonintrest-bearing demand obligations on account of subscribed capital\n",
      "Assets 2010 Investments\n",
      "Assets 2009 Investments\n",
      "Assets 2010 Client operations\n",
      "Assets 2009 Client operations\n",
      "Assets 2010 Borrowings\n",
      "Assets 2009 Borrowings\n",
      "Assets 2010 Other\n",
      "Assets 2009 Other\n",
      "Assets 2010 Receivables to maintain value of currency holdings on account of subscribed capital\n",
      "Assets 2009 Receivables to maintain value of currency holdings on account of subscribed capital\n",
      "Assets 2010 Receivables from investment securities traded\n",
      "Assets 2009 Receivables from investment securities traded\n",
      "Assets 2010 Accrued income on loans\n",
      "Assets 2009 Accrued income on loans\n",
      "Assets 2010 Net loans outstanding\n"
     ]
    }
   ],
   "source": [
    "# Implementing a SQL ORM (Object Relational Model)\n",
    "\n",
    "DBSession = scoped_session(sessionmaker(bind=engine))\n",
    "session = DBSession()\n",
    "\n",
    "result = session.execute(\"SELECT * FROM irbd_balance LIMIT 25\")\n",
    "#result = session.execute(\"SELECT * FROM irbd_balance WHERE category='e'\")\n",
    "\n",
    "\n",
    "for row in result.fetchall():\n",
    "    # print(row)\n",
    "    print(str(row.category_label)+' ' +str(row.year) + ' ' +str(row.line_item))\n",
    "    # print(\"\\n\")\n",
    "    #print(\"%-20s%10s%10d%10d\" % (row.category_label,\n",
    "    #                          row.subcategory,\n",
    "    #                          #row.line_item,\n",
    "    #                          row.year,\n",
    "    #                          row.amount,\n",
    "    #                          ))"
   ]
  },
  {
   "cell_type": "markdown",
   "id": "80c39fb4-9e24-4de6-a8b9-98090011063a",
   "metadata": {},
   "source": [
    "# 3. OLAP Cube Operations <a name=\"olap\"></a>\n",
    "In this section, we apply a **Cube model** on the data prepared in the section above and we use the Cube model to perform a few OLAP operations (*i.e. drill-down, slicing, dicing*)\n",
    "\n",
    "## 3.1 Cube Modeling <a name=\"cube\"></a>\n",
    "Cube modeling allows us to descibe a **logical model** from an analyst's perspective (i.e. data how they are being measured, aggregated and reported). This model is independent of physical implementation of data. For example, the logical model enable users to:\n",
    "\n",
    "1. see the data from the business perspective.\n",
    "2. hide physical structure of the data (“how application’s use it”).\n",
    "3. specify OLAP dimension hierarchies of attributes.\n",
    "4. provide more descriptive attribute labels for display in the applications or reports.\n",
    "5. transparent localization of metadata and data.\n",
    "\n",
    "The logical model is described using **model metadata dictionary**. This dictionary is composed of:\n",
    "1. logical part,\n",
    "2. physical part and,\n",
    "3. any other additional information of the logical model.\n",
    "\n",
    "![Logical Model](./img/logical_model.png)\n",
    "\n",
    "The logical model is implemented using *JSON*. In this exercise, we use an example model [model.json](model.json)\n",
    "\n",
    "### Reference (For more Info)\n",
    "* [Logical Model and Metadata](https://pythonhosted.org/cubes/model.html)\n",
    "\n",
    "\n"
   ]
  },
  {
   "cell_type": "markdown",
   "id": "64842216-a8bc-4449-ac8f-ad2c559f1946",
   "metadata": {},
   "source": [
    "## 3.2 Creating Workspace <a name=\"workspace\"></a>\n",
    "Everything in Cubes happens in an **analytical workspace**. A **workspace** contains cubes and maintains connections to the data stores (with cube data). The workspace properties are specified in a configuration file [slicer.ini](slicer.ini) (default name). In the configuration file, we specify at least the following items:\n",
    "\n",
    "* data store (i.e. in this exercise - it is the SQLite)\n",
    "* Cube model (created in the section above)\n",
    "* etc ...\n",
    "\n",
    "After creating a **workspace**, we need a **AggregationBrowser -** an object that allows us to perform multi-dimensional data (or Cube) queries and operations such as:\n",
    "\n",
    "* aggregation, \n",
    "* slicing, \n",
    "* dicing, \n",
    "* browsing\n",
    "\n",
    "\n"
   ]
  },
  {
   "cell_type": "code",
   "execution_count": 11,
   "id": "a6d3089a-6b42-4c6b-87af-00865cc3b4f6",
   "metadata": {},
   "outputs": [],
   "source": [
    "# Create a workspace\n",
    "\n",
    "conf = ConfigParser()\n",
    "conf.read('slicer.ini')\n",
    "workspace = Workspace(config=conf)"
   ]
  },
  {
   "cell_type": "code",
   "execution_count": 12,
   "id": "d3b194f9-7623-4587-bf22-f7b927edab49",
   "metadata": {},
   "outputs": [],
   "source": [
    "# Get a browser\n",
    "\n",
    "browser = workspace.browser('irbd_balance')"
   ]
  },
  {
   "cell_type": "markdown",
   "id": "1b4cfc5f-6356-4458-b11b-94cc9fdaa78e",
   "metadata": {},
   "source": [
    "## 3.3 Data Aggregation  <a name=\"aggregation\"></a>\n",
    "**Data aggregation** is a query in a multi-dimensional data space and it aims to compute/consolidate data for one or more dimensions to a measure (i.e. sum).\n",
    "\n",
    "<img src=\"./img/aggregate.png\" alt=\"drawing\" width=\"400\"/>\n",
    "\n",
    "Image Source: [Slideshare](https://www.slideshare.net/pommurajopt/data-pre-processing-31974618)\n"
   ]
  },
  {
   "cell_type": "code",
   "execution_count": 13,
   "id": "c63b3609-b919-45bd-b064-2e3a7f02ac50",
   "metadata": {},
   "outputs": [
    {
     "data": {
      "text/plain": [
       "{'amount_sum': 1116860, 'double_amount_sum': 2233720, 'record_count': 62}"
      ]
     },
     "execution_count": 13,
     "metadata": {},
     "output_type": "execute_result"
    }
   ],
   "source": [
    "# Play with aggregates\n",
    "\n",
    "result = browser.aggregate()\n",
    "result.summary"
   ]
  },
  {
   "cell_type": "markdown",
   "id": "02700331-a5ce-46d4-a9aa-8a1336f0891c",
   "metadata": {},
   "source": [
    "## 3.4 Drill Down <a name=\"drill-down\"></a>\n",
    "A way of viewing related items of a Dimension as defined in a Hierarchy by expanding Members to access a more detailed data range; put simply, this means displaying Child Members associated with a specific Parent Member or Aggregate Member within a defined Hierarchy.\n",
    "\n",
    "<img src=\"./img/drill_down.png\" alt=\"drawing\" width=\"600\"/>\n",
    "\n",
    "Image source: [Tutorialspoint](https://www.tutorialspoint.com/dwh/dwh_olap.htm)"
   ]
  },
  {
   "cell_type": "code",
   "execution_count": 20,
   "id": "6384b7a7-ad59-4d46-9945-42a9e346e3d7",
   "metadata": {},
   "outputs": [
    {
     "name": "stdout",
     "output_type": "stream",
     "text": [
      "Drill-down by Item\n",
      "TableRow(key='a', label='Assets', path=['a'], is_base=False, record={'item.category': 'a', 'item.category_label': 'Assets', 'amount_sum': 558430, 'double_amount_sum': 1116860, 'record_count': 32})\n",
      "\n",
      "\n",
      "Assets                      32    558430   1116860\n",
      "TableRow(key='e', label='Equity', path=['e'], is_base=False, record={'item.category': 'e', 'item.category_label': 'Equity', 'amount_sum': 77592, 'double_amount_sum': 155184, 'record_count': 8})\n",
      "\n",
      "\n",
      "Equity                       8     77592    155184\n",
      "TableRow(key='l', label='Liabilities', path=['l'], is_base=False, record={'item.category': 'l', 'item.category_label': 'Liabilities', 'amount_sum': 480838, 'double_amount_sum': 961676, 'record_count': 22})\n",
      "\n",
      "\n",
      "Liabilities                 22    480838    961676\n",
      "\n",
      " ---- \n",
      "\n",
      "Drill-down by Year\n",
      "2009                        31    550840   1101680\n",
      "2010                        31    566020   1132040\n"
     ]
    }
   ],
   "source": [
    "# Drill-down by item dimension\n",
    "result = browser.aggregate(drilldown=[\"item\"])\n",
    "# print(result)\n",
    "print(\"Drill-down by Item\")\n",
    "for row in result.table_rows(\"item\"):\n",
    "    # print(str(row))\n",
    "    # print(\"\\n\")\n",
    "    print(\"%-20s%10d%10d%10d\" % ( row.label,\n",
    "                              row.record[\"record_count\"],\n",
    "                              row.record[\"amount_sum\"],\n",
    "                              row.record[\"double_amount_sum\"],\n",
    "                              ))\n",
    "print(\"\\n ---- \\n\")\n",
    "  \n",
    "# Drill-down by year dimension\n",
    "result = browser.aggregate(drilldown=[\"year\"])\n",
    "print(\"Drill-down by Year\")\n",
    "for row in result.table_rows(\"year\"):\n",
    "    print(\"%-20s%10d%10d%10d\" % (row.label,\n",
    "                              row.record[\"record_count\"],\n",
    "                              row.record[\"amount_sum\"],\n",
    "                              row.record[\"double_amount_sum\"],\n",
    "                              ))"
   ]
  },
  {
   "cell_type": "markdown",
   "id": "dee97f4f-9649-40a6-bd05-34e0569c4cfb",
   "metadata": {},
   "source": [
    "## 3.5 Slicing and Dicing <a name=\"slice-dice\"></a>\n",
    "\n",
    "### 3.5.1 Slicing\n",
    "A Slice represents two-dimensional view of an OLAP Cube that arranges data in a grid, similar to a spreadsheet; a Slice functions much like a report or a query in an RDBMS. In this exercise, a slice is implemented using the **Cut object**.\n",
    "\n",
    "<img src=\"./img/slicing.png\" alt=\"drawing\" width=\"500\"/>\n",
    "\n",
    "\n",
    "### 3.5.2 Dicing\n",
    "The dice operation produces a subcube by allowing the analyst to pick specific values of multiple dimensions. In this exercise, a dice is implemented using the **Cell object**.\n",
    "\n",
    "<img src=\"./img/dicing.png\" alt=\"drawing\" width=\"500\"/>\n",
    "\n",
    "\n",
    "Image sources: [Tutorialspoint](https://www.tutorialspoint.com/dwh/dwh_olap.htm)\n",
    "\n",
    "### Reference (More Info)\n",
    "* [Slicing and Dicing](https://pythonhosted.org/cubes/slicing_and_dicing.html)"
   ]
  },
  {
   "cell_type": "code",
   "execution_count": 9,
   "id": "409f4102-a425-4491-9116-de18698e9142",
   "metadata": {},
   "outputs": [
    {
     "name": "stdout",
     "output_type": "stream",
     "text": [
      "Slice: Year 2010\n",
      "{'amount_sum': 566020, 'double_amount_sum': 1132040, 'record_count': 31}\n",
      "\n",
      "\n",
      " ----------- \n",
      "\n",
      "\n",
      "Dice: Item 'e' for Year 2009\n",
      "{'amount_sum': 40037, 'double_amount_sum': 80074, 'record_count': 4}\n"
     ]
    }
   ],
   "source": [
    "# Slice -> Cut\n",
    "# ------------\n",
    "\n",
    "# Slice (or cut) for the Year 2010\n",
    "    \n",
    "cut_1 = PointCut(\"year\", [2010])\n",
    "\n",
    "\n",
    "# Dice (or cut) for Item 'e' for the year 2009\n",
    "cut_2 = [ \n",
    "    PointCut(\"item\", [\"e\"]), \n",
    "    PointCut(\"year\", [2009])\n",
    "]\n",
    "\n",
    "# Dice -> Cell\n",
    "cell_1 = Cell(browser.cube, cuts = [cut_1])\n",
    "cell_2 = Cell(browser.cube, cuts = cut_2)\n",
    "\n",
    "\n",
    "print(\"Slice: Year 2010\")\n",
    "result = browser.aggregate(cell_1)\n",
    "print(result.summary)\n",
    "\n",
    "print(\"\\n\\n ----------- \\n\\n\")\n",
    "\n",
    "\n",
    "print(\"Dice: Item 'e' for Year 2009\")\n",
    "result = browser.aggregate(cell_2)\n",
    "print(result.summary)\n",
    "\n",
    "\n",
    "# print(result)\n",
    "#for row in result.table_rows(\"year\"):\n",
    "#    print(\"%-20s%10d%10d%10d\" % ( row.label,\n",
    "#                              row.record[\"record_count\"],\n",
    "#                              row.record[\"amount_sum\"],\n",
    "#                              row.record[\"double_amount_sum\"],\n",
    "#                              ))\n",
    "    \n",
    "# cube = workspace.cube(\"irbd_balance\")\n",
    "# result = browser.aggregate(cell, drilldown=[\"item\"])\n",
    "# for row in result.table_rows(\"item\"):\n",
    "#    print(\"%-20s%10d%10d%10d\" % ( row.label,\n",
    "#                              row.record[\"record_count\"],\n",
    "#                              row.record[\"amount_sum\"],\n",
    "#                              row.record[\"double_amount_sum\"],\n",
    "#                              ))"
   ]
  },
  {
   "cell_type": "markdown",
   "id": "f9cc83e1-9c87-4cb1-917f-0bcd036b51de",
   "metadata": {},
   "source": [
    "# 4. Exercise: Multidimensional Modeling on a UCI Data set <a name=\"exercise\"></a>\n",
    "The [PRSA_Data.csv](PRSA_Data.csv) is retrieved from [UCI Data Repository](https://archive.ics.uci.edu/ml/datasets/Beijing+Multi-Site+Air-Quality+Data). The data (**Beijing Multi-Site Air-Quality Data Data Set**): is hourly data set considers 6 main air pollutants and 6 relevant meteorological variables at multiple sites in Beijing. Using this data set:\n",
    "\n",
    "1. Prepare the data (load into an SQLite database)\n",
    "2. design a Cube model with dimensions: **Wind direction (wd)**, **Year** and **Date (aggregates Year, Month and Day)**.\n",
    "3. use the Cube to perform OLAP operations (i.e. Drill-down, Slicing, Dicing)"
   ]
  },
  {
   "cell_type": "code",
   "execution_count": null,
   "id": "7c3b2e11-2a53-429a-961d-f4d592b938df",
   "metadata": {},
   "outputs": [],
   "source": []
  }
 ],
 "metadata": {
  "kernelspec": {
   "display_name": "Python 3 (ipykernel)",
   "language": "python",
   "name": "python3"
  },
  "language_info": {
   "codemirror_mode": {
    "name": "ipython",
    "version": 3
   },
   "file_extension": ".py",
   "mimetype": "text/x-python",
   "name": "python",
   "nbconvert_exporter": "python",
   "pygments_lexer": "ipython3",
   "version": "3.9.13"
  }
 },
 "nbformat": 4,
 "nbformat_minor": 5
}
