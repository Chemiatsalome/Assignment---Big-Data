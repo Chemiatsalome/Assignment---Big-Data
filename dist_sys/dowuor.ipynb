{
 "cells": [
  {
   "cell_type": "markdown",
   "id": "fd65461e-b742-423b-9fd1-687a8c4b9eff",
   "metadata": {},
   "source": [
    "# Hello world\n",
    "My first *program* using **Jupyter**.\n"
   ]
  },
  {
   "cell_type": "code",
   "execution_count": 2,
   "id": "b09f3371-f1d3-4cb9-9978-50ad80edc17a",
   "metadata": {},
   "outputs": [
    {
     "data": {
      "text/plain": [
       "int"
      ]
     },
     "execution_count": 2,
     "metadata": {},
     "output_type": "execute_result"
    }
   ],
   "source": [
    "x = 4\n",
    "type(x)\n"
   ]
  },
  {
   "cell_type": "markdown",
   "id": "f68ef031-caf7-46bc-b5ae-da3bdadb460b",
   "metadata": {},
   "source": [
    "Checking if x is greater than z"
   ]
  },
  {
   "cell_type": "code",
   "execution_count": 3,
   "id": "1d4ef298-fc2e-4c52-9ed7-d6aac09d7ea1",
   "metadata": {},
   "outputs": [
    {
     "name": "stdout",
     "output_type": "stream",
     "text": [
      "z is big\n"
     ]
    }
   ],
   "source": [
    "z = 30\n",
    "if x > z:\n",
    "    print(\"x is big\")\n",
    "else:\n",
    "    print(\"z is big\")\n",
    "        "
   ]
  },
  {
   "cell_type": "code",
   "execution_count": null,
   "id": "3abfab2b-e217-4b90-9945-eca7e3004d38",
   "metadata": {},
   "outputs": [],
   "source": []
  }
 ],
 "metadata": {
  "kernelspec": {
   "display_name": "Python 3 (ipykernel)",
   "language": "python",
   "name": "python3"
  },
  "language_info": {
   "codemirror_mode": {
    "name": "ipython",
    "version": 3
   },
   "file_extension": ".py",
   "mimetype": "text/x-python",
   "name": "python",
   "nbconvert_exporter": "python",
   "pygments_lexer": "ipython3",
   "version": "3.9.13"
  }
 },
 "nbformat": 4,
 "nbformat_minor": 5
}
